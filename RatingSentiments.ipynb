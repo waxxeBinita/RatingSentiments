{
 "cells": [
  {
   "cell_type": "code",
   "execution_count": 1,
   "metadata": {},
   "outputs": [],
   "source": [
    "#Import libraries"
   ]
  },
  {
   "cell_type": "code",
   "execution_count": 2,
   "metadata": {
    "_kg_hide-input": true,
    "execution": {
     "iopub.execute_input": "2021-06-11T05:31:48.363502Z",
     "iopub.status.busy": "2021-06-11T05:31:48.363116Z",
     "iopub.status.idle": "2021-06-11T05:31:54.644253Z",
     "shell.execute_reply": "2021-06-11T05:31:54.643450Z",
     "shell.execute_reply.started": "2021-06-11T05:31:48.363414Z"
    }
   },
   "outputs": [],
   "source": [
    "import numpy as np\n",
    "import pandas as pd\n",
    "import matplotlib.pyplot as plt\n",
    "import seaborn as sns\n",
    "\n",
    "#from wordcloud import WordCloud, STOPWORDS\n",
    "from sklearn.model_selection import train_test_split\n",
    "from sklearn.preprocessing import LabelEncoder\n",
    "from sklearn.metrics import accuracy_score, confusion_matrix\n",
    "\n",
    "import string\n",
    "import re\n",
    "import keras\n",
    "\n",
    "from sklearn.feature_extraction.text import TfidfVectorizer\n",
    "from sklearn.feature_extraction.text import CountVectorizer\n",
    "from nltk.corpus import stopwords\n",
    "from nltk.stem import PorterStemmer\n",
    "\n",
    "from sklearn.linear_model import LogisticRegression\n",
    "from sklearn.naive_bayes import MultinomialNB\n",
    "\n",
    "from keras.utils import to_categorical\n",
    "from keras.preprocessing.text import Tokenizer\n",
    "#from keras.preprocessing.sequence import pad_sequences\n",
    "from keras.layers import Dense , LSTM , Embedding\n",
    "from keras.models import Sequential\n",
    "from keras.callbacks import EarlyStopping\n",
    "\n",
    "#import warnings warnings.filterwarnings('ignore')\n",
    "\n",
    "import pickle"
   ]
  },
  {
   "cell_type": "code",
   "execution_count": 3,
   "metadata": {
    "execution": {
     "iopub.execute_input": "2021-06-11T05:31:54.645957Z",
     "iopub.status.busy": "2021-06-11T05:31:54.645617Z",
     "iopub.status.idle": "2021-06-11T05:32:00.723850Z",
     "shell.execute_reply": "2021-06-11T05:32:00.723070Z",
     "shell.execute_reply.started": "2021-06-11T05:31:54.645923Z"
    }
   },
   "outputs": [
    {
     "data": {
      "text/html": [
       "<div>\n",
       "<style scoped>\n",
       "    .dataframe tbody tr th:only-of-type {\n",
       "        vertical-align: middle;\n",
       "    }\n",
       "\n",
       "    .dataframe tbody tr th {\n",
       "        vertical-align: top;\n",
       "    }\n",
       "\n",
       "    .dataframe thead th {\n",
       "        text-align: right;\n",
       "    }\n",
       "</style>\n",
       "<table border=\"1\" class=\"dataframe\">\n",
       "  <thead>\n",
       "    <tr style=\"text-align: right;\">\n",
       "      <th></th>\n",
       "      <th>review_id</th>\n",
       "      <th>text</th>\n",
       "      <th>verified</th>\n",
       "      <th>review_score</th>\n",
       "      <th>product_category</th>\n",
       "    </tr>\n",
       "  </thead>\n",
       "  <tbody>\n",
       "    <tr>\n",
       "      <th>0</th>\n",
       "      <td>product_review_000000</td>\n",
       "      <td>OMG this is sooo good.. Very Good!!!</td>\n",
       "      <td>True</td>\n",
       "      <td>5.0</td>\n",
       "      <td>prime_pantry</td>\n",
       "    </tr>\n",
       "    <tr>\n",
       "      <th>1</th>\n",
       "      <td>product_review_000001</td>\n",
       "      <td>This soap smells pretty good and it seems to w...</td>\n",
       "      <td>True</td>\n",
       "      <td>4.0</td>\n",
       "      <td>prime_pantry</td>\n",
       "    </tr>\n",
       "  </tbody>\n",
       "</table>\n",
       "</div>"
      ],
      "text/plain": [
       "               review_id                                               text  \\\n",
       "0  product_review_000000               OMG this is sooo good.. Very Good!!!   \n",
       "1  product_review_000001  This soap smells pretty good and it seems to w...   \n",
       "\n",
       "  verified  review_score product_category  \n",
       "0     True           5.0     prime_pantry  \n",
       "1     True           4.0     prime_pantry  "
      ]
     },
     "execution_count": 3,
     "metadata": {},
     "output_type": "execute_result"
    }
   ],
   "source": [
    "data = pd.read_csv(\"/Users/binitashrestha/Documents/processed_reviews_split_RESIT_minimal.csv\")\n",
    "data.head(2)\n",
    "#DATA OVERVIEW"
   ]
  },
  {
   "cell_type": "code",
   "execution_count": 4,
   "metadata": {
    "execution": {
     "iopub.execute_input": "2021-06-11T05:32:00.726220Z",
     "iopub.status.busy": "2021-06-11T05:32:00.725811Z",
     "iopub.status.idle": "2021-06-11T05:32:00.732212Z",
     "shell.execute_reply": "2021-06-11T05:32:00.731169Z",
     "shell.execute_reply.started": "2021-06-11T05:32:00.726181Z"
    }
   },
   "outputs": [
    {
     "data": {
      "text/plain": [
       "(28153, 5)"
      ]
     },
     "execution_count": 4,
     "metadata": {},
     "output_type": "execute_result"
    }
   ],
   "source": [
    "#LENGTH OF DATASET\n",
    "data.shape"
   ]
  },
  {
   "cell_type": "code",
   "execution_count": 5,
   "metadata": {},
   "outputs": [
    {
     "name": "stdout",
     "output_type": "stream",
     "text": [
      "<class 'pandas.core.frame.DataFrame'>\n",
      "RangeIndex: 28153 entries, 0 to 28152\n",
      "Data columns (total 5 columns):\n",
      " #   Column            Non-Null Count  Dtype  \n",
      "---  ------            --------------  -----  \n",
      " 0   review_id         28153 non-null  object \n",
      " 1   text              28132 non-null  object \n",
      " 2   verified          28028 non-null  object \n",
      " 3   review_score      28153 non-null  float64\n",
      " 4   product_category  27377 non-null  object \n",
      "dtypes: float64(1), object(4)\n",
      "memory usage: 1.1+ MB\n"
     ]
    }
   ],
   "source": [
    "data.info()"
   ]
  },
  {
   "cell_type": "code",
   "execution_count": 8,
   "metadata": {},
   "outputs": [
    {
     "data": {
      "text/html": [
       "<div>\n",
       "<style scoped>\n",
       "    .dataframe tbody tr th:only-of-type {\n",
       "        vertical-align: middle;\n",
       "    }\n",
       "\n",
       "    .dataframe tbody tr th {\n",
       "        vertical-align: top;\n",
       "    }\n",
       "\n",
       "    .dataframe thead th {\n",
       "        text-align: right;\n",
       "    }\n",
       "</style>\n",
       "<table border=\"1\" class=\"dataframe\">\n",
       "  <thead>\n",
       "    <tr style=\"text-align: right;\">\n",
       "      <th></th>\n",
       "      <th># of missing values</th>\n",
       "    </tr>\n",
       "  </thead>\n",
       "  <tbody>\n",
       "    <tr>\n",
       "      <th>review_id</th>\n",
       "      <td>0</td>\n",
       "    </tr>\n",
       "    <tr>\n",
       "      <th>text</th>\n",
       "      <td>21</td>\n",
       "    </tr>\n",
       "    <tr>\n",
       "      <th>verified</th>\n",
       "      <td>125</td>\n",
       "    </tr>\n",
       "    <tr>\n",
       "      <th>review_score</th>\n",
       "      <td>0</td>\n",
       "    </tr>\n",
       "    <tr>\n",
       "      <th>product_category</th>\n",
       "      <td>776</td>\n",
       "    </tr>\n",
       "  </tbody>\n",
       "</table>\n",
       "</div>"
      ],
      "text/plain": [
       "                  # of missing values\n",
       "review_id                           0\n",
       "text                               21\n",
       "verified                          125\n",
       "review_score                        0\n",
       "product_category                  776"
      ]
     },
     "execution_count": 8,
     "metadata": {},
     "output_type": "execute_result"
    }
   ],
   "source": [
    "#####DATA CLEANING AND HANDLING MISSING VALUES\n",
    "#####Check null values\n",
    "data.isna().sum().to_frame(name='# of missing values')"
   ]
  },
  {
   "cell_type": "code",
   "execution_count": 9,
   "metadata": {},
   "outputs": [
    {
     "name": "stdout",
     "output_type": "stream",
     "text": [
      "No. of rows removed : 920\n",
      "\n",
      "Percentage of data removed:3.27%\n",
      "Percentage of data remaining:96.73%\n"
     ]
    }
   ],
   "source": [
    "####REMOVE ALL ROWS WITH NULL VALUES\n",
    "total_rows =  data.shape[0]\n",
    "data.dropna(how='any',inplace=True)\n",
    "remaining_rows= data.shape[0]\n",
    "\n",
    "removed_rows = total_rows-remaining_rows\n",
    "print(\"No. of rows removed :\", removed_rows)\n",
    "\n",
    "print(f\"\\nPercentage of data removed:{np.round((removed_rows/total_rows)*100,2)}%\")\n",
    "print(f\"Percentage of data remaining:{np.round((remaining_rows/total_rows)*100,2)}%\")"
   ]
  },
  {
   "cell_type": "code",
   "execution_count": 10,
   "metadata": {},
   "outputs": [
    {
     "name": "stdout",
     "output_type": "stream",
     "text": [
      "No. of rows removed : 821\n",
      "\n",
      "Percentage of data removed: 2.92%\n",
      "Percentage of data remaining: 93.82%\n"
     ]
    }
   ],
   "source": [
    "#####REMOVE ALL DUPLICATE ROWS\n",
    "a =  data.shape[0]\n",
    "data.drop_duplicates(inplace=True, subset=['review_score','text'])\n",
    "b = data.shape[0]\n",
    "\n",
    "print(\"No. of rows removed :\", a-b)\n",
    "\n",
    "print(f\"\\nPercentage of data removed: {np.round(((a-b)/total_rows)*100,2)}%\")\n",
    "print(f\"Percentage of data remaining: {np.round((b/total_rows)*100,2)}%\")"
   ]
  },
  {
   "cell_type": "code",
   "execution_count": 11,
   "metadata": {},
   "outputs": [
    {
     "data": {
      "text/plain": [
       "0"
      ]
     },
     "execution_count": 11,
     "metadata": {},
     "output_type": "execute_result"
    }
   ],
   "source": [
    "data[\"text\"].isnull().sum()\n",
    "data[\"review_id\"].isnull().sum()"
   ]
  },
  {
   "cell_type": "code",
   "execution_count": null,
   "metadata": {},
   "outputs": [],
   "source": [
    "#DATA CLEANING\n",
    "#HANDLING MISSING VALUES"
   ]
  },
  {
   "cell_type": "code",
   "execution_count": 12,
   "metadata": {
    "execution": {
     "iopub.execute_input": "2021-06-11T05:32:00.734718Z",
     "iopub.status.busy": "2021-06-11T05:32:00.734359Z",
     "iopub.status.idle": "2021-06-11T05:32:01.000108Z",
     "shell.execute_reply": "2021-06-11T05:32:00.999089Z",
     "shell.execute_reply.started": "2021-06-11T05:32:00.734683Z"
    }
   },
   "outputs": [
    {
     "data": {
      "text/html": [
       "<div>\n",
       "<style scoped>\n",
       "    .dataframe tbody tr th:only-of-type {\n",
       "        vertical-align: middle;\n",
       "    }\n",
       "\n",
       "    .dataframe tbody tr th {\n",
       "        vertical-align: top;\n",
       "    }\n",
       "\n",
       "    .dataframe thead th {\n",
       "        text-align: right;\n",
       "    }\n",
       "</style>\n",
       "<table border=\"1\" class=\"dataframe\">\n",
       "  <thead>\n",
       "    <tr style=\"text-align: right;\">\n",
       "      <th></th>\n",
       "      <th># of missing values</th>\n",
       "    </tr>\n",
       "  </thead>\n",
       "  <tbody>\n",
       "    <tr>\n",
       "      <th>review_id</th>\n",
       "      <td>0</td>\n",
       "    </tr>\n",
       "    <tr>\n",
       "      <th>text</th>\n",
       "      <td>0</td>\n",
       "    </tr>\n",
       "    <tr>\n",
       "      <th>verified</th>\n",
       "      <td>0</td>\n",
       "    </tr>\n",
       "    <tr>\n",
       "      <th>review_score</th>\n",
       "      <td>0</td>\n",
       "    </tr>\n",
       "    <tr>\n",
       "      <th>product_category</th>\n",
       "      <td>0</td>\n",
       "    </tr>\n",
       "  </tbody>\n",
       "</table>\n",
       "</div>"
      ],
      "text/plain": [
       "                  # of missing values\n",
       "review_id                           0\n",
       "text                                0\n",
       "verified                            0\n",
       "review_score                        0\n",
       "product_category                    0"
      ]
     },
     "execution_count": 12,
     "metadata": {},
     "output_type": "execute_result"
    }
   ],
   "source": [
    "# Check null values\n",
    "data.isna().sum().to_frame(name='# of missing values')"
   ]
  },
  {
   "cell_type": "markdown",
   "metadata": {},
   "source": [
    "### Remove rows which are having null values"
   ]
  },
  {
   "cell_type": "code",
   "execution_count": 14,
   "metadata": {
    "execution": {
     "iopub.execute_input": "2021-06-11T05:32:01.001970Z",
     "iopub.status.busy": "2021-06-11T05:32:01.001601Z",
     "iopub.status.idle": "2021-06-11T05:32:01.345020Z",
     "shell.execute_reply": "2021-06-11T05:32:01.344126Z",
     "shell.execute_reply.started": "2021-06-11T05:32:01.001933Z"
    }
   },
   "outputs": [],
   "source": [
    "#Data Cleaning\n",
    "data['excluded'] = False\n",
    "data['reason_for_exclusion'] = \"\""
   ]
  },
  {
   "cell_type": "code",
   "execution_count": 15,
   "metadata": {},
   "outputs": [],
   "source": [
    "#Remove NAN text\n",
    "null_text = data[data['text'].isnull()]\n",
    "data.loc[null_text.index,'excluded'] = True\n",
    "data.loc[null_text.index,'reason_for_exclusion'] = \"missing_value_or_label\""
   ]
  },
  {
   "cell_type": "code",
   "execution_count": 16,
   "metadata": {},
   "outputs": [],
   "source": [
    "#Review Score Invalid\n",
    "invalid_score = data[data['review_score'] < 0 ]\n",
    "data.loc[invalid_score.index,'excluded'] = True\n",
    "data.loc[invalid_score.index,'reason_for_exclusion'] = \"invalid\""
   ]
  },
  {
   "cell_type": "code",
   "execution_count": 17,
   "metadata": {},
   "outputs": [],
   "source": [
    "#Get valid set of rows\n",
    "remaining_data = data[data['excluded']==False]"
   ]
  },
  {
   "cell_type": "code",
   "execution_count": 18,
   "metadata": {},
   "outputs": [
    {
     "data": {
      "text/html": [
       "<div>\n",
       "<style scoped>\n",
       "    .dataframe tbody tr th:only-of-type {\n",
       "        vertical-align: middle;\n",
       "    }\n",
       "\n",
       "    .dataframe tbody tr th {\n",
       "        vertical-align: top;\n",
       "    }\n",
       "\n",
       "    .dataframe thead th {\n",
       "        text-align: right;\n",
       "    }\n",
       "</style>\n",
       "<table border=\"1\" class=\"dataframe\">\n",
       "  <thead>\n",
       "    <tr style=\"text-align: right;\">\n",
       "      <th></th>\n",
       "      <th># of missing values</th>\n",
       "    </tr>\n",
       "  </thead>\n",
       "  <tbody>\n",
       "    <tr>\n",
       "      <th>review_id</th>\n",
       "      <td>0</td>\n",
       "    </tr>\n",
       "    <tr>\n",
       "      <th>text</th>\n",
       "      <td>0</td>\n",
       "    </tr>\n",
       "    <tr>\n",
       "      <th>verified</th>\n",
       "      <td>0</td>\n",
       "    </tr>\n",
       "    <tr>\n",
       "      <th>review_score</th>\n",
       "      <td>0</td>\n",
       "    </tr>\n",
       "    <tr>\n",
       "      <th>product_category</th>\n",
       "      <td>0</td>\n",
       "    </tr>\n",
       "    <tr>\n",
       "      <th>excluded</th>\n",
       "      <td>0</td>\n",
       "    </tr>\n",
       "    <tr>\n",
       "      <th>reason_for_exclusion</th>\n",
       "      <td>0</td>\n",
       "    </tr>\n",
       "  </tbody>\n",
       "</table>\n",
       "</div>"
      ],
      "text/plain": [
       "                      # of missing values\n",
       "review_id                               0\n",
       "text                                    0\n",
       "verified                                0\n",
       "review_score                            0\n",
       "product_category                        0\n",
       "excluded                                0\n",
       "reason_for_exclusion                    0"
      ]
     },
     "execution_count": 18,
     "metadata": {},
     "output_type": "execute_result"
    }
   ],
   "source": [
    "# Check null values\n",
    "data.isna().sum().to_frame(name='# of missing values')"
   ]
  },
  {
   "cell_type": "code",
   "execution_count": 19,
   "metadata": {},
   "outputs": [
    {
     "data": {
      "text/plain": [
       "(26412, 7)"
      ]
     },
     "execution_count": 19,
     "metadata": {},
     "output_type": "execute_result"
    }
   ],
   "source": [
    "data.shape"
   ]
  },
  {
   "cell_type": "code",
   "execution_count": 20,
   "metadata": {},
   "outputs": [
    {
     "name": "stdout",
     "output_type": "stream",
     "text": [
      "<class 'pandas.core.frame.DataFrame'>\n",
      "Int64Index: 25643 entries, 0 to 28152\n",
      "Data columns (total 7 columns):\n",
      " #   Column                Non-Null Count  Dtype  \n",
      "---  ------                --------------  -----  \n",
      " 0   review_id             25643 non-null  object \n",
      " 1   text                  25643 non-null  object \n",
      " 2   verified              25643 non-null  object \n",
      " 3   review_score          25643 non-null  float64\n",
      " 4   product_category      25643 non-null  object \n",
      " 5   excluded              25643 non-null  bool   \n",
      " 6   reason_for_exclusion  25643 non-null  object \n",
      "dtypes: bool(1), float64(1), object(5)\n",
      "memory usage: 1.4+ MB\n"
     ]
    }
   ],
   "source": [
    "remaining_data.info()"
   ]
  },
  {
   "cell_type": "code",
   "execution_count": 21,
   "metadata": {
    "execution": {
     "iopub.execute_input": "2021-06-11T05:32:01.346943Z",
     "iopub.status.busy": "2021-06-11T05:32:01.346431Z",
     "iopub.status.idle": "2021-06-11T05:32:02.028006Z",
     "shell.execute_reply": "2021-06-11T05:32:02.027022Z",
     "shell.execute_reply.started": "2021-06-11T05:32:01.346906Z"
    },
    "executionInfo": {
     "elapsed": 1365,
     "status": "ok",
     "timestamp": 1617166272615,
     "user": {
      "displayName": "PALIVELA ASHOK KUMAR",
      "photoUrl": "https://lh3.googleusercontent.com/a-/AOh14Ggazbg0PXdJSYQ2PkY2Dwok0Gh0hKmjcvjmga_fyw=s64",
      "userId": "12198348366515253153"
     },
     "user_tz": -330
    },
    "id": "I4DRXBiWT6ye",
    "outputId": "58f0725d-fa6a-47a2-df53-0117a8e0e4e7"
   },
   "outputs": [
    {
     "name": "stdout",
     "output_type": "stream",
     "text": [
      "{'hers', 'only', 'through', 'them', 'my', 'most', 'o', 'so', 'a', 'by', 'what', 't', 'does', 'we', 'how', \"should've\", 'and', 'other', 've', 'ain', 'some', 'ma', 'your', 'won', 'being', 'doing', 'm', 'above', 'don', 'down', 'having', 'out', 'haven', 'such', 'shouldn', 'because', 'again', 'been', 'had', 'our', 'can', 'during', 'didn', 'mightn', 'until', 'am', 'further', 'too', 'or', 'should', 'these', 'an', 'in', 'they', 'you', 'was', 'who', 'it', 'that', 'with', 'on', 'did', 'between', 'from', 'will', 'before', \"it's\", 'd', 'all', 'aren', 'own', 'over', 'its', 'he', 'which', 'mustn', 'at', 'off', \"that'll\", 'weren', 'myself', 'wouldn', 'ours', 'after', 'for', 'yourselves', 'll', 'hasn', \"you've\", 'as', 'were', 'whom', 's', 'herself', 'below', 'yourself', 'once', 'here', 'do', 'himself', 'but', 'y', 'yours', 'have', 'each', 'very', 'just', 'me', 'has', 'doesn', 'itself', 'if', 'ourselves', 'than', 'under', 'when', 'both', 'why', 'few', 'are', 'where', 'any', 'more', 'their', 'up', 'against', 'isn', 'couldn', 'same', 'be', 'him', 'theirs', 'about', 'there', \"you'll\", 'into', \"you'd\", 'hadn', 'his', 're', 'those', 'shan', 'the', 'wasn', 'she', 'to', \"you're\", 'this', 'i', 'then', 'her', 'of', 'while', 'themselves', 'needn', \"she's\", 'is', 'one'}\n"
     ]
    }
   ],
   "source": [
    "\n",
    "#stopwords\n",
    "total_stopwords = set(stopwords.words('english'))\n",
    "\n",
    "# subtract negative stop words like no, not, don't etc.. from total_stopwords\n",
    "negative_stop_words = set(word for word in total_stopwords \n",
    "                          if \"n't\" in word or 'no' in word)\n",
    "\n",
    "final_stopwords = total_stopwords - negative_stop_words\n",
    "\n",
    "# \n",
    "final_stopwords.add(\"one\")\n",
    "print(final_stopwords)"
   ]
  },
  {
   "cell_type": "code",
   "execution_count": 22,
   "metadata": {},
   "outputs": [
    {
     "name": "stdout",
     "output_type": "stream",
     "text": [
      "<class 'pandas.core.frame.DataFrame'>\n",
      "Int64Index: 26412 entries, 0 to 28152\n",
      "Data columns (total 7 columns):\n",
      " #   Column                Non-Null Count  Dtype  \n",
      "---  ------                --------------  -----  \n",
      " 0   review_id             26412 non-null  object \n",
      " 1   text                  26412 non-null  object \n",
      " 2   verified              26412 non-null  object \n",
      " 3   review_score          26412 non-null  float64\n",
      " 4   product_category      26412 non-null  object \n",
      " 5   excluded              26412 non-null  bool   \n",
      " 6   reason_for_exclusion  26412 non-null  object \n",
      "dtypes: bool(1), float64(1), object(5)\n",
      "memory usage: 2.4+ MB\n"
     ]
    }
   ],
   "source": [
    "data.info()"
   ]
  },
  {
   "cell_type": "code",
   "execution_count": 23,
   "metadata": {},
   "outputs": [
    {
     "name": "stdout",
     "output_type": "stream",
     "text": [
      "5.0 product_review_007973\n",
      ":).  2 product_review_008890\n",
      "4.0 product_review_015453\n",
      "Always goo 2 product_review_023043\n",
      "4.0 product_review_010217\n",
      "Arrived in 2 product_review_015205\n",
      "3.0 product_review_002053\n",
      "Came on ti 2 product_review_008681\n",
      "5.0 product_review_000563\n",
      "GREAT WILL 2 product_review_005280\n",
      "5.0 product_review_009310\n",
      "Good Produ 2 product_review_015621\n",
      "5.0 product_review_016841\n",
      "Good Value 2 product_review_017315\n",
      "5.0 product_review_006214\n",
      "Good price 2 product_review_020792\n",
      "4.0 product_review_004659\n",
      "Good produ 2 product_review_013177\n",
      "5.0 product_review_026101\n",
      "Good produ 2 product_review_026936\n",
      "4.0 product_review_001697\n",
      "Good produ 3 product_review_009663\n",
      "5.0 product_review_012601\n",
      "Good stuff 2 product_review_026616\n",
      "4.0 product_review_014023\n",
      "Good value 2 product_review_018519\n",
      "4.0 product_review_014266\n",
      "Good value 2 product_review_014737\n",
      "1.0 product_review_002183\n",
      "Good.  3 product_review_013475\n",
      "3.0 product_review_009257\n",
      "Good..  2 product_review_027290\n",
      "5.0 product_review_014160\n",
      "Great, del 2 product_review_016829\n",
      "4.0 product_review_008916\n",
      "It is what 2 product_review_014841\n",
      "4.0 product_review_001544\n",
      "It was as  2 product_review_021581\n",
      "4.0 product_review_002653\n",
      "Love it. L 2 product_review_027190\n",
      "4.0 product_review_000495\n",
      "Love this. 2 product_review_002445\n",
      "4.0 product_review_005344\n",
      "Marvel Tit 3 product_review_005361\n",
      "2.0 product_review_004419\n",
      "OK.  3 product_review_006838\n",
      "5.0 product_review_003668\n",
      "OK..  2 product_review_019233\n",
      "4.0 product_review_012753\n",
      "Ok..  2 product_review_023354\n",
      "5.0 product_review_020144\n",
      "Smells gre 2 product_review_026662\n",
      "5.0 product_review_009578\n",
      "Tastes goo 2 product_review_020248\n",
      "3.0 product_review_014723\n",
      "Thanks.  2 product_review_021080\n",
      "5.0 product_review_002376\n",
      "These are  2 product_review_024106\n",
      "3.0 product_review_021625\n",
      "Too sweet. 2 product_review_023696\n",
      "5.0 product_review_016184\n",
      "Wonderful. 2 product_review_017896\n",
      "5.0 product_review_008546\n",
      "Works for  2 product_review_014860\n",
      "4.0 product_review_012852\n",
      "Works good 2 product_review_021526\n",
      "5.0 product_review_009546\n",
      "Works grea 2 product_review_017804\n",
      "3.0 product_review_018321\n",
      "Works well 2 product_review_020353\n",
      "5.0 product_review_026536\n",
      "Works.  2 product_review_027936\n",
      "5.0 product_review_008280\n",
      "Yummy!. Yu 2 product_review_015868\n",
      "5.0 product_review_014905\n",
      "all good.  2 product_review_015622\n",
      "4.0 product_review_006296\n",
      "as adverti 2 product_review_023878\n",
      "5.0 product_review_012004\n",
      "as describ 2 product_review_023751\n",
      "5.0 product_review_003679\n",
      "as expecte 2 product_review_025495\n",
      "5.0 product_review_025335\n",
      "does a goo 2 product_review_027729\n",
      "5.0 product_review_015382\n",
      "excellent  2 product_review_020036\n",
      "4.0 product_review_000739\n",
      "good item. 2 product_review_019147\n",
      "5.0 product_review_001078\n",
      "good produ 2 product_review_011961\n",
      "4.0 product_review_004217\n",
      "good show  2 product_review_013188\n",
      "5.0 product_review_005660\n",
      "good stuff 2 product_review_012539\n",
      "4.0 product_review_007879\n",
      "good.  2 product_review_019104\n",
      "5.0 product_review_005065\n",
      "great expe 2 product_review_006678\n",
      "3.0 product_review_010071\n",
      "item arriv 2 product_review_017766\n",
      "5.0 product_review_010224\n",
      "love this  2 product_review_020168\n",
      "3.0 product_review_003358\n",
      "meh.  2 product_review_018776\n",
      "3.0 product_review_001717\n",
      "nice produ 2 product_review_022914\n",
      "4.0 product_review_000256\n",
      "nice snack 2 product_review_020914\n",
      "4.0 product_review_011591\n",
      "no comment 3 product_review_016017\n",
      "3.0 product_review_014022\n",
      "not good.  2 product_review_023021\n",
      "3.0 product_review_007888\n",
      "not great. 2 product_review_011994\n",
      "5.0 product_review_006090\n",
      "ok.  2 product_review_027792\n",
      "4.0 product_review_008028\n",
      "okay.  2 product_review_010801\n",
      "4.0 product_review_005462\n",
      "okay. okay 2 product_review_026990\n",
      "5.0 product_review_010788\n",
      "one of my  2 product_review_022707\n",
      "5.0 product_review_005546\n",
      "taste good 2 product_review_010541\n",
      "4.0 product_review_008075\n",
      "too sweet. 2 product_review_019870\n",
      "4.0 product_review_007522\n",
      "very good  2 product_review_016654\n",
      "4.0 product_review_010441\n",
      "very good. 2 product_review_021968\n",
      "4.0 product_review_001513\n",
      "works well 2 product_review_012908\n",
      "5.0 product_review_019934\n",
      "yummie.  2 product_review_020165\n",
      "5.0 product_review_023759\n",
      "yummy!.  2 product_review_025413\n"
     ]
    }
   ],
   "source": [
    "duplicates = remaining_data[remaining_data.duplicated(['text'],keep=False)]\n",
    "\n",
    "for text,obj_group in remaining_data.groupby('text'):\n",
    "    obj = obj_group.to_dict('records')\n",
    "    if len(obj) == 1:\n",
    "        continue\n",
    "    review_score = obj[0]['review_score']\n",
    "    for each_obj in obj[1:]:\n",
    "        if each_obj['review_score'] != review_score:\n",
    "            print(obj[0]['review_score'],obj[0]['review_id'])\n",
    "            print(text[:10],len(obj),each_obj['review_id'])\n",
    "            break"
   ]
  },
  {
   "cell_type": "code",
   "execution_count": 24,
   "metadata": {},
   "outputs": [
    {
     "data": {
      "text/plain": [
       "141"
      ]
     },
     "execution_count": 24,
     "metadata": {},
     "output_type": "execute_result"
    }
   ],
   "source": [
    "len(duplicates)"
   ]
  },
  {
   "cell_type": "code",
   "execution_count": 25,
   "metadata": {},
   "outputs": [
    {
     "name": "stderr",
     "output_type": "stream",
     "text": [
      "[nltk_data] Downloading package stopwords to\n",
      "[nltk_data]     /Users/binitashrestha/nltk_data...\n",
      "[nltk_data]   Package stopwords is already up-to-date!\n",
      "[nltk_data] Downloading package punkt to\n",
      "[nltk_data]     /Users/binitashrestha/nltk_data...\n",
      "[nltk_data]   Package punkt is already up-to-date!\n"
     ]
    },
    {
     "data": {
      "text/plain": [
       "True"
      ]
     },
     "execution_count": 25,
     "metadata": {},
     "output_type": "execute_result"
    }
   ],
   "source": [
    "import nltk\n",
    "import re\n",
    "from nltk.tokenize import word_tokenize\n",
    "from nltk.corpus import stopwords\n",
    "from nltk.stem import WordNetLemmatizer\n",
    "nltk.download(\"stopwords\")\n",
    "stop_words=stopwords.words(\"english\")\n",
    "new_stopping_words = stop_words[:len(stop_words)-36]\n",
    "new_stopping_words.remove(\"not\")\n",
    "nltk.download('punkt')"
   ]
  },
  {
   "cell_type": "code",
   "execution_count": 26,
   "metadata": {},
   "outputs": [],
   "source": [
    "def remove_punc(data):\n",
    "    new_text= re.sub(\"n't\",'not', data)\n",
    "    new_text= re.sub('[^\\w\\s]','', data)\n",
    "    return new_text"
   ]
  },
  {
   "cell_type": "code",
   "execution_count": 27,
   "metadata": {},
   "outputs": [
    {
     "data": {
      "text/plain": [
       "'0                     OMG this is sooo good Very Good\\n1        This soap smells pretty good and it seems to w\\n2        Dont seem to dissolve after quite some time \\n3        these zip bags do as they should very good I\\n4        What A MessnI recommend making this in a m\\n                                                       \\n28146    Ive used drugstore body oils and dry oil spra\\n28147    Ordered two of the bandaids which we use most\\n28149                            healthy tasty side dish \\n28151    Dont let the packaging turn you away  Jack B\\n28152    I am quite lightskinned and when I was asked \\nName text Length 26412 dtype object'"
      ]
     },
     "execution_count": 27,
     "metadata": {},
     "output_type": "execute_result"
    }
   ],
   "source": [
    "processed_text= remove_punc(str(data[\"text\"]))\n",
    "processed_text"
   ]
  },
  {
   "cell_type": "code",
   "execution_count": 28,
   "metadata": {},
   "outputs": [],
   "source": [
    "def tokenizze(data):\n",
    "    newdata= word_tokenize(data)\n",
    "    return newdata"
   ]
  },
  {
   "cell_type": "code",
   "execution_count": 29,
   "metadata": {},
   "outputs": [
    {
     "data": {
      "text/plain": [
       "['0',\n",
       " 'omg',\n",
       " 'this',\n",
       " 'is',\n",
       " 'sooo',\n",
       " 'good',\n",
       " 'very',\n",
       " 'good',\n",
       " '1',\n",
       " 'this',\n",
       " 'soap',\n",
       " 'smells',\n",
       " 'pretty',\n",
       " 'good',\n",
       " 'and',\n",
       " 'it',\n",
       " 'seems',\n",
       " 'to',\n",
       " 'w',\n",
       " '2',\n",
       " 'dont',\n",
       " 'seem',\n",
       " 'to',\n",
       " 'dissolve',\n",
       " 'after',\n",
       " 'quite',\n",
       " 'some',\n",
       " 'time',\n",
       " '3',\n",
       " 'these',\n",
       " 'zip',\n",
       " 'bags',\n",
       " 'do',\n",
       " 'as',\n",
       " 'they',\n",
       " 'should',\n",
       " 'very',\n",
       " 'good',\n",
       " 'i',\n",
       " '4',\n",
       " 'what',\n",
       " 'a',\n",
       " 'messni',\n",
       " 'recommend',\n",
       " 'making',\n",
       " 'this',\n",
       " 'in',\n",
       " 'a',\n",
       " 'm',\n",
       " '28146',\n",
       " 'ive',\n",
       " 'used',\n",
       " 'drugstore',\n",
       " 'body',\n",
       " 'oils',\n",
       " 'and',\n",
       " 'dry',\n",
       " 'oil',\n",
       " 'spra',\n",
       " '28147',\n",
       " 'ordered',\n",
       " 'two',\n",
       " 'of',\n",
       " 'the',\n",
       " 'bandaids',\n",
       " 'which',\n",
       " 'we',\n",
       " 'use',\n",
       " 'most',\n",
       " '28149',\n",
       " 'healthy',\n",
       " 'tasty',\n",
       " 'side',\n",
       " 'dish',\n",
       " '28151',\n",
       " 'dont',\n",
       " 'let',\n",
       " 'the',\n",
       " 'packaging',\n",
       " 'turn',\n",
       " 'you',\n",
       " 'away',\n",
       " 'jack',\n",
       " 'b',\n",
       " '28152',\n",
       " 'i',\n",
       " 'am',\n",
       " 'quite',\n",
       " 'lightskinned',\n",
       " 'and',\n",
       " 'when',\n",
       " 'i',\n",
       " 'was',\n",
       " 'asked',\n",
       " 'name',\n",
       " 'text',\n",
       " 'length',\n",
       " '26412',\n",
       " 'dtype',\n",
       " 'object']"
      ]
     },
     "execution_count": 29,
     "metadata": {},
     "output_type": "execute_result"
    }
   ],
   "source": [
    "tokenized_data= tokenizze(processed_text.lower())\n",
    "tokenized_data"
   ]
  },
  {
   "cell_type": "code",
   "execution_count": 30,
   "metadata": {},
   "outputs": [],
   "source": [
    "def remove_num(data):\n",
    "    text_without_num=[w for w in data if w.isalpha()]\n",
    "    return text_without_num\n"
   ]
  },
  {
   "cell_type": "code",
   "execution_count": 31,
   "metadata": {},
   "outputs": [
    {
     "data": {
      "text/plain": [
       "['omg',\n",
       " 'this',\n",
       " 'is',\n",
       " 'sooo',\n",
       " 'good',\n",
       " 'very',\n",
       " 'good',\n",
       " 'this',\n",
       " 'soap',\n",
       " 'smells',\n",
       " 'pretty',\n",
       " 'good',\n",
       " 'and',\n",
       " 'it',\n",
       " 'seems',\n",
       " 'to',\n",
       " 'w',\n",
       " 'dont',\n",
       " 'seem',\n",
       " 'to',\n",
       " 'dissolve',\n",
       " 'after',\n",
       " 'quite',\n",
       " 'some',\n",
       " 'time',\n",
       " 'these',\n",
       " 'zip',\n",
       " 'bags',\n",
       " 'do',\n",
       " 'as',\n",
       " 'they',\n",
       " 'should',\n",
       " 'very',\n",
       " 'good',\n",
       " 'i',\n",
       " 'what',\n",
       " 'a',\n",
       " 'messni',\n",
       " 'recommend',\n",
       " 'making',\n",
       " 'this',\n",
       " 'in',\n",
       " 'a',\n",
       " 'm',\n",
       " 'ive',\n",
       " 'used',\n",
       " 'drugstore',\n",
       " 'body',\n",
       " 'oils',\n",
       " 'and',\n",
       " 'dry',\n",
       " 'oil',\n",
       " 'spra',\n",
       " 'ordered',\n",
       " 'two',\n",
       " 'of',\n",
       " 'the',\n",
       " 'bandaids',\n",
       " 'which',\n",
       " 'we',\n",
       " 'use',\n",
       " 'most',\n",
       " 'healthy',\n",
       " 'tasty',\n",
       " 'side',\n",
       " 'dish',\n",
       " 'dont',\n",
       " 'let',\n",
       " 'the',\n",
       " 'packaging',\n",
       " 'turn',\n",
       " 'you',\n",
       " 'away',\n",
       " 'jack',\n",
       " 'b',\n",
       " 'i',\n",
       " 'am',\n",
       " 'quite',\n",
       " 'lightskinned',\n",
       " 'and',\n",
       " 'when',\n",
       " 'i',\n",
       " 'was',\n",
       " 'asked',\n",
       " 'name',\n",
       " 'text',\n",
       " 'length',\n",
       " 'dtype',\n",
       " 'object']"
      ]
     },
     "execution_count": 31,
     "metadata": {},
     "output_type": "execute_result"
    }
   ],
   "source": [
    "textwithoutnum = remove_num(tokenized_data)\n",
    "textwithoutnum"
   ]
  },
  {
   "cell_type": "code",
   "execution_count": 32,
   "metadata": {},
   "outputs": [],
   "source": [
    "#stemming object\n",
    "stemmer = PorterStemmer()\n",
    "\n",
    "# ---------------------------------------------\n",
    "HTMLTAGS = re.compile('<.*?>')\n",
    "table = str.maketrans(dict.fromkeys(string.punctuation))\n",
    "remove_digits = str.maketrans('', '', string.digits)\n",
    "MULTIPLE_WHITESPACE = re.compile(r\"\\s+\")\n",
    "# ---------------------------------------------"
   ]
  },
  {
   "cell_type": "code",
   "execution_count": 51,
   "metadata": {},
   "outputs": [
    {
     "name": "stdout",
     "output_type": "stream",
     "text": [
      "{'hers', 'only', 'through', 'them', 'my', 'most', 'o', 'so', 'a', 'by', 'what', 't', 'does', 'we', 'how', \"should've\", 'and', 'other', 've', 'ain', 'some', 'ma', 'your', 'won', 'being', 'doing', 'm', 'above', 'don', 'down', 'having', 'out', 'haven', 'such', 'shouldn', 'because', 'again', 'been', 'had', 'our', 'can', 'during', 'didn', 'mightn', 'until', 'am', 'further', 'too', 'or', 'should', 'these', 'an', 'in', 'they', 'you', 'was', 'who', 'it', 'that', 'with', 'on', 'did', 'between', 'from', 'will', 'before', \"it's\", 'd', 'all', 'aren', 'own', 'over', 'its', 'he', 'which', 'mustn', 'at', 'off', \"that'll\", 'weren', 'myself', 'wouldn', 'ours', 'after', 'for', 'yourselves', 'll', 'hasn', \"you've\", 'as', 'were', 'whom', 's', 'herself', 'below', 'yourself', 'once', 'here', 'do', 'himself', 'but', 'y', 'yours', 'have', 'each', 'very', 'just', 'me', 'has', 'doesn', 'itself', 'if', 'ourselves', 'than', 'under', 'when', 'both', 'why', 'few', 'are', 'where', 'any', 'more', 'their', 'up', 'against', 'isn', 'couldn', 'same', 'be', 'him', 'theirs', 'about', 'there', \"you'll\", 'into', \"you'd\", 'hadn', 'his', 're', 'those', 'shan', 'the', 'wasn', 'she', 'to', \"you're\", 'this', 'i', 'then', 'her', 'of', 'while', 'themselves', 'needn', \"she's\", 'is', 'one'}\n"
     ]
    }
   ],
   "source": [
    "# stopwords\n",
    "total_stopwords = set(stopwords.words('english'))\n",
    "\n",
    "# subtract negative stop words like no, not, don't etc.. from total_stopwords\n",
    "negative_stop_words = set(word for word in total_stopwords \n",
    "                          if \"n't\" in word or 'no' in word)\n",
    "\n",
    "final_stopwords = total_stopwords - negative_stop_words\n",
    "\n",
    "# \n",
    "final_stopwords.add(\"one\")\n",
    "print(final_stopwords)"
   ]
  },
  {
   "cell_type": "code",
   "execution_count": 52,
   "metadata": {},
   "outputs": [
    {
     "data": {
      "text/plain": [
       "0"
      ]
     },
     "execution_count": 52,
     "metadata": {},
     "output_type": "execute_result"
    }
   ],
   "source": [
    "data[\"text\"].isnull().sum()\n",
    "data[\"review_id\"].isnull().sum()"
   ]
  },
  {
   "cell_type": "code",
   "execution_count": 33,
   "metadata": {},
   "outputs": [],
   "source": [
    "def preprocessor(review):\n",
    "    # remove html tags\n",
    "    review = HTMLTAGS.sub(r'', review)\n",
    "\n",
    "    # remove puncutuation\n",
    "    review = review.translate(table)\n",
    "    \n",
    "    # remove digits\n",
    "    review = review.translate(remove_digits)\n",
    "    \n",
    "    # lower case all letters\n",
    "    review = review.lower()\n",
    "    \n",
    "    # replace multiple white spaces with single space\n",
    "    review = MULTIPLE_WHITESPACE.sub(\" \", review).strip()\n",
    "    \n",
    "    # remove stop words\n",
    "    review = [word for word in review.split()\n",
    "              if word not in final_stopwords]\n",
    "    \n",
    "    # stemming\n",
    "    review = ' '.join([stemmer.stem(word) for word in review])\n",
    "    \n",
    "    return review"
   ]
  },
  {
   "cell_type": "code",
   "execution_count": 34,
   "metadata": {},
   "outputs": [
    {
     "name": "stdout",
     "output_type": "stream",
     "text": [
      "Before preprocessing : \n"
     ]
    },
    {
     "data": {
      "text/plain": [
       "'Love the gold peak teas!! I am a tea snob and this has been the only brand that I will drink. I purchased these for my son who is also an iced tea lover, but he lives in the dorm and I know that he would appreciate a good glass of iced tea after working outside in the sun all day. I would highly recommend this brand if you love iced tea, but hate the hassle of brewing it yourself.. Love the gold peak teas'"
      ]
     },
     "execution_count": 34,
     "metadata": {},
     "output_type": "execute_result"
    }
   ],
   "source": [
    "print(\"Before preprocessing : \")\n",
    "data.text.iloc[6]"
   ]
  },
  {
   "cell_type": "code",
   "execution_count": 35,
   "metadata": {},
   "outputs": [
    {
     "name": "stdout",
     "output_type": "stream",
     "text": [
      "After preprocessing : \n"
     ]
    },
    {
     "data": {
      "text/plain": [
       "'love gold peak tea tea snob brand drink purchas son also ice tea lover live dorm know would appreci good glass ice tea work outsid sun day would highli recommend brand love ice tea hate hassl brew love gold peak tea'"
      ]
     },
     "execution_count": 35,
     "metadata": {},
     "output_type": "execute_result"
    }
   ],
   "source": [
    "\n",
    "# apply preprocessing function\n",
    "\n",
    "data.text = data.text.apply(preprocessor) \n",
    "print(\"After preprocessing : \")\n",
    "data.text.iloc[6]"
   ]
  },
  {
   "cell_type": "markdown",
   "metadata": {},
   "source": [
    "### Create target column using Score"
   ]
  },
  {
   "cell_type": "code",
   "execution_count": 36,
   "metadata": {},
   "outputs": [],
   "source": [
    "############recode product catagory to 1 and 0\n",
    "#########\n",
    "###########\n",
    "################"
   ]
  },
  {
   "cell_type": "code",
   "execution_count": 37,
   "metadata": {},
   "outputs": [
    {
     "name": "stderr",
     "output_type": "stream",
     "text": [
      "/Users/binitashrestha/opt/anaconda3/lib/python3.8/site-packages/seaborn/_decorators.py:36: FutureWarning: Pass the following variable as a keyword arg: x. From version 0.12, the only valid positional argument will be `data`, and passing other arguments without an explicit keyword will result in an error or misinterpretation.\n",
      "  warnings.warn(\n"
     ]
    },
    {
     "data": {
      "text/plain": [
       "Text(0.5, 1.0, 'review_score')"
      ]
     },
     "execution_count": 37,
     "metadata": {},
     "output_type": "execute_result"
    },
    {
     "data": {
      "image/png": "[encoded data removed]",
      "text/plain": [
       "<Figure size 720x360 with 1 Axes>"
      ]
     },
     "metadata": {
      "needs_background": "light"
     },
     "output_type": "display_data"
    }
   ],
   "source": [
    "import seaborn as sns\n",
    "sns.countplot(data['review_score'], palette=\"plasma\")\n",
    "fig = plt.gcf()\n",
    "fig.set_size_inches(10,5)\n",
    "plt.title('review_score')"
   ]
  },
  {
   "cell_type": "code",
   "execution_count": 40,
   "metadata": {
    "execution": {
     "iopub.execute_input": "2021-06-11T05:32:02.114634Z",
     "iopub.status.busy": "2021-06-11T05:32:02.114267Z",
     "iopub.status.idle": "2021-06-11T05:32:02.214834Z",
     "shell.execute_reply": "2021-06-11T05:32:02.214097Z",
     "shell.execute_reply.started": "2021-06-11T05:32:02.114605Z"
    }
   },
   "outputs": [],
   "source": [
    "##breaking scores: Score>3: psotive, ==3: Neutral, <3: Negative\n",
    "\n",
    "def create_target(x):\n",
    "    \n",
    "    return \"Positive\" if x>3 else \"Negative\" if x<3 else \"Neutral\"\n",
    "\n",
    "data.loc[:, 'target'] = data.review_score.apply(create_target)"
   ]
  },
  {
   "cell_type": "code",
   "execution_count": 42,
   "metadata": {},
   "outputs": [
    {
     "data": {
      "text/plain": [
       " 5.0    17256\n",
       " 4.0     4520\n",
       " 3.0     2219\n",
       " 2.0      910\n",
       "-1.0      769\n",
       " 1.0      738\n",
       "Name: review_score, dtype: int64"
      ]
     },
     "execution_count": 42,
     "metadata": {},
     "output_type": "execute_result"
    }
   ],
   "source": [
    "data[\"review_score\"].value_counts()"
   ]
  },
  {
   "cell_type": "code",
   "execution_count": 44,
   "metadata": {
    "execution": {
     "iopub.execute_input": "2021-06-11T05:32:02.217037Z",
     "iopub.status.busy": "2021-06-11T05:32:02.216691Z",
     "iopub.status.idle": "2021-06-11T05:32:02.337403Z",
     "shell.execute_reply": "2021-06-11T05:32:02.336618Z",
     "shell.execute_reply.started": "2021-06-11T05:32:02.217002Z"
    }
   },
   "outputs": [
    {
     "data": {
      "text/html": [
       "<div>\n",
       "<style scoped>\n",
       "    .dataframe tbody tr th:only-of-type {\n",
       "        vertical-align: middle;\n",
       "    }\n",
       "\n",
       "    .dataframe tbody tr th {\n",
       "        vertical-align: top;\n",
       "    }\n",
       "\n",
       "    .dataframe thead th {\n",
       "        text-align: right;\n",
       "    }\n",
       "</style>\n",
       "<table border=\"1\" class=\"dataframe\">\n",
       "  <thead>\n",
       "    <tr style=\"text-align: right;\">\n",
       "      <th></th>\n",
       "      <th>review_score</th>\n",
       "      <th>target</th>\n",
       "    </tr>\n",
       "  </thead>\n",
       "  <tbody>\n",
       "    <tr>\n",
       "      <th>22155</th>\n",
       "      <td>5.0</td>\n",
       "      <td>Positive</td>\n",
       "    </tr>\n",
       "    <tr>\n",
       "      <th>15681</th>\n",
       "      <td>5.0</td>\n",
       "      <td>Positive</td>\n",
       "    </tr>\n",
       "    <tr>\n",
       "      <th>7185</th>\n",
       "      <td>-1.0</td>\n",
       "      <td>Negative</td>\n",
       "    </tr>\n",
       "    <tr>\n",
       "      <th>9677</th>\n",
       "      <td>4.0</td>\n",
       "      <td>Positive</td>\n",
       "    </tr>\n",
       "    <tr>\n",
       "      <th>13718</th>\n",
       "      <td>5.0</td>\n",
       "      <td>Positive</td>\n",
       "    </tr>\n",
       "  </tbody>\n",
       "</table>\n",
       "</div>"
      ],
      "text/plain": [
       "       review_score    target\n",
       "22155           5.0  Positive\n",
       "15681           5.0  Positive\n",
       "7185           -1.0  Negative\n",
       "9677            4.0  Positive\n",
       "13718           5.0  Positive"
      ]
     },
     "execution_count": 44,
     "metadata": {},
     "output_type": "execute_result"
    }
   ],
   "source": [
    "#1. number of stars associated with review score, target column \n",
    "data[['review_score', 'target']].sample(5)"
   ]
  },
  {
   "cell_type": "code",
   "execution_count": 46,
   "metadata": {},
   "outputs": [],
   "source": [
    "X = data.text\n",
    "y = data.target\n",
    "\n",
    "X_train, X_test, y_train, y_test = train_test_split(\n",
    "    \n",
    "    X, y, test_size=0.20, random_state=1, stratify=y)"
   ]
  },
  {
   "cell_type": "code",
   "execution_count": 47,
   "metadata": {},
   "outputs": [
    {
     "data": {
      "text/plain": [
       "((21129,), (5283,))"
      ]
     },
     "execution_count": 47,
     "metadata": {},
     "output_type": "execute_result"
    }
   ],
   "source": [
    "X_train.shape, X_test.shape"
   ]
  },
  {
   "cell_type": "code",
   "execution_count": 48,
   "metadata": {},
   "outputs": [
    {
     "name": "stdout",
     "output_type": "stream",
     "text": [
      "(26412, 2)\n"
     ]
    },
    {
     "data": {
      "text/html": [
       "<div>\n",
       "<style scoped>\n",
       "    .dataframe tbody tr th:only-of-type {\n",
       "        vertical-align: middle;\n",
       "    }\n",
       "\n",
       "    .dataframe tbody tr th {\n",
       "        vertical-align: top;\n",
       "    }\n",
       "\n",
       "    .dataframe thead th {\n",
       "        text-align: right;\n",
       "    }\n",
       "</style>\n",
       "<table border=\"1\" class=\"dataframe\">\n",
       "  <thead>\n",
       "    <tr style=\"text-align: right;\">\n",
       "      <th></th>\n",
       "      <th>review_score</th>\n",
       "      <th>target</th>\n",
       "    </tr>\n",
       "  </thead>\n",
       "  <tbody>\n",
       "    <tr>\n",
       "      <th>0</th>\n",
       "      <td>5.0</td>\n",
       "      <td>Positive</td>\n",
       "    </tr>\n",
       "    <tr>\n",
       "      <th>1</th>\n",
       "      <td>4.0</td>\n",
       "      <td>Positive</td>\n",
       "    </tr>\n",
       "    <tr>\n",
       "      <th>2</th>\n",
       "      <td>1.0</td>\n",
       "      <td>Negative</td>\n",
       "    </tr>\n",
       "    <tr>\n",
       "      <th>3</th>\n",
       "      <td>5.0</td>\n",
       "      <td>Positive</td>\n",
       "    </tr>\n",
       "    <tr>\n",
       "      <th>4</th>\n",
       "      <td>2.0</td>\n",
       "      <td>Negative</td>\n",
       "    </tr>\n",
       "  </tbody>\n",
       "</table>\n",
       "</div>"
      ],
      "text/plain": [
       "   review_score    target\n",
       "0           5.0  Positive\n",
       "1           4.0  Positive\n",
       "2           1.0  Negative\n",
       "3           5.0  Positive\n",
       "4           2.0  Negative"
      ]
     },
     "execution_count": 48,
     "metadata": {},
     "output_type": "execute_result"
    }
   ],
   "source": [
    "rating_data = pd.DataFrame(data, columns=['review_score', 'target'])\n",
    "print(rating_data.shape)\n",
    "rating_data.head()"
   ]
  },
  {
   "cell_type": "code",
   "execution_count": 49,
   "metadata": {},
   "outputs": [
    {
     "data": {
      "image/png": "[encoded data removed]",
      "text/plain": [
       "<Figure size 720x360 with 1 Axes>"
      ]
     },
     "metadata": {
      "needs_background": "light"
     },
     "output_type": "display_data"
    }
   ],
   "source": [
    "fig, ax = plt.subplots(figsize=(10, 5))\n",
    "vc = data.target.value_counts()\n",
    "vc.plot.barh(color=\"grey\",fontsize=14,ax=ax)\n",
    "ax.set_title(\"Label vs Count\", fontsize=15)\n",
    "plt.show()"
   ]
  },
  {
   "cell_type": "code",
   "execution_count": 53,
   "metadata": {
    "execution": {
     "iopub.execute_input": "2021-06-11T05:35:11.923680Z",
     "iopub.status.busy": "2021-06-11T05:35:11.923308Z",
     "iopub.status.idle": "2021-06-11T05:35:23.131914Z",
     "shell.execute_reply": "2021-06-11T05:35:23.131047Z",
     "shell.execute_reply.started": "2021-06-11T05:35:11.923645Z"
    }
   },
   "outputs": [],
   "source": [
    "#Bag of Words Vectorizer\n",
    "bow_vectorizer = CountVectorizer(max_features=10000)\n",
    "bow_vectorizer.fit(X_train)\n",
    "\n",
    "# transform\n",
    "bow_X_train = bow_vectorizer.transform(X_train)\n",
    "bow_X_test = bow_vectorizer.transform(X_test)"
   ]
  },
  {
   "cell_type": "code",
   "execution_count": 54,
   "metadata": {
    "execution": {
     "iopub.execute_input": "2021-06-11T05:35:23.133654Z",
     "iopub.status.busy": "2021-06-11T05:35:23.133141Z",
     "iopub.status.idle": "2021-06-11T05:35:35.046562Z",
     "shell.execute_reply": "2021-06-11T05:35:35.045697Z",
     "shell.execute_reply.started": "2021-06-11T05:35:23.133615Z"
    },
    "executionInfo": {
     "elapsed": 18461,
     "status": "ok",
     "timestamp": 1617170832530,
     "user": {
      "displayName": "PALIVELA ASHOK KUMAR",
      "photoUrl": "https://lh3.googleusercontent.com/a-/AOh14Ggazbg0PXdJSYQ2PkY2Dwok0Gh0hKmjcvjmga_fyw=s64",
      "userId": "12198348366515253153"
     },
     "user_tz": -330
    },
    "id": "NNF4xD6CT6yn"
   },
   "outputs": [],
   "source": [
    "#TF-IDF Vectorizer\n",
    "tfidf_vectorizer = TfidfVectorizer(max_features=10000)\n",
    "tfidf_vectorizer.fit(X_train)\n",
    "\n",
    "# transform\n",
    "tfidf_X_train = tfidf_vectorizer.transform(X_train)\n",
    "tfidf_X_test = tfidf_vectorizer.transform(X_test)"
   ]
  },
  {
   "cell_type": "code",
   "execution_count": 55,
   "metadata": {
    "execution": {
     "iopub.execute_input": "2021-06-11T05:35:35.048248Z",
     "iopub.status.busy": "2021-06-11T05:35:35.047894Z",
     "iopub.status.idle": "2021-06-11T05:35:35.089588Z",
     "shell.execute_reply": "2021-06-11T05:35:35.088639Z",
     "shell.execute_reply.started": "2021-06-11T05:35:35.048211Z"
    }
   },
   "outputs": [
    {
     "name": "stdout",
     "output_type": "stream",
     "text": [
      "['Negative', 'Neutral', 'Positive']\n"
     ]
    }
   ],
   "source": [
    "#LABEL ENCODING\n",
    "labelEncoder = LabelEncoder()\n",
    "\n",
    "y_train = labelEncoder.fit_transform(y_train)\n",
    "y_test = labelEncoder.transform(y_test)\n",
    "\n",
    "labels = labelEncoder.classes_.tolist()\n",
    "print(labels) # index-> class"
   ]
  },
  {
   "cell_type": "code",
   "execution_count": 57,
   "metadata": {
    "execution": {
     "iopub.execute_input": "2021-06-11T05:35:35.091495Z",
     "iopub.status.busy": "2021-06-11T05:35:35.090957Z",
     "iopub.status.idle": "2021-06-11T05:35:35.099458Z",
     "shell.execute_reply": "2021-06-11T05:35:35.098617Z",
     "shell.execute_reply.started": "2021-06-11T05:35:35.091458Z"
    }
   },
   "outputs": [],
   "source": [
    "###MODEL TRAINING\n",
    "def train_and_eval(model, trainX, trainY, testX, testY):\n",
    "\n",
    "    # training\n",
    "    _ = model.fit(trainX, trainY)\n",
    "\n",
    "    # predictions\n",
    "    y_preds_train = model.predict(trainX)\n",
    "    y_preds_test = model.predict(testX)\n",
    "\n",
    "    # evaluation\n",
    "    print()\n",
    "    print(model)\n",
    "    print(f\"Train accuracy score : {accuracy_score(y_train, y_preds_train)}\")\n",
    "    print(f\"Test accuracy score : {accuracy_score(y_test, y_preds_test)}\")\n",
    "    print('\\n',40*'-')"
   ]
  },
  {
   "cell_type": "code",
   "execution_count": 58,
   "metadata": {
    "execution": {
     "iopub.execute_input": "2021-06-11T05:35:35.101079Z",
     "iopub.status.busy": "2021-06-11T05:35:35.100681Z",
     "iopub.status.idle": "2021-06-11T05:38:49.199840Z",
     "shell.execute_reply": "2021-06-11T05:38:49.198916Z",
     "shell.execute_reply.started": "2021-06-11T05:35:35.101044Z"
    },
    "executionInfo": {
     "elapsed": 7502,
     "status": "ok",
     "timestamp": 1617170871658,
     "user": {
      "displayName": "PALIVELA ASHOK KUMAR",
      "photoUrl": "https://lh3.googleusercontent.com/a-/AOh14Ggazbg0PXdJSYQ2PkY2Dwok0Gh0hKmjcvjmga_fyw=s64",
      "userId": "12198348366515253153"
     },
     "user_tz": -330
    },
    "id": "MjhkYVoRub8p",
    "outputId": "c9d1415b-4bf7-4962-9215-4cf0d3b26b76"
   },
   "outputs": [
    {
     "name": "stdout",
     "output_type": "stream",
     "text": [
      "\n",
      "LogisticRegression(C=0.001, max_iter=500, random_state=1)\n",
      "Train accuracy score : 0.8265417199110228\n",
      "Test accuracy score : 0.8237743706227523\n",
      "\n",
      " ----------------------------------------\n",
      "\n",
      "LogisticRegression(C=0.01, max_iter=500, random_state=1)\n",
      "Train accuracy score : 0.8464669411709026\n",
      "Test accuracy score : 0.8288851031610828\n",
      "\n",
      " ----------------------------------------\n",
      "\n",
      "LogisticRegression(C=0.1, max_iter=500, random_state=1)\n",
      "Train accuracy score : 0.8824364617350561\n",
      "Test accuracy score : 0.8364565587734242\n",
      "\n",
      " ----------------------------------------\n",
      "\n",
      "LogisticRegression(C=1, max_iter=500, random_state=1)\n",
      "Train accuracy score : 0.9215769795068389\n",
      "Test accuracy score : 0.8264243800870718\n",
      "\n",
      " ----------------------------------------\n",
      "\n",
      "LogisticRegression(C=10, max_iter=500, random_state=1)\n",
      "Train accuracy score : 0.9459037342041744\n",
      "Test accuracy score : 0.7978421351504826\n",
      "\n",
      " ----------------------------------------\n"
     ]
    },
    {
     "name": "stderr",
     "output_type": "stream",
     "text": [
      "/Users/binitashrestha/opt/anaconda3/lib/python3.8/site-packages/sklearn/linear_model/_logistic.py:763: ConvergenceWarning: lbfgs failed to converge (status=1):\n",
      "STOP: TOTAL NO. of ITERATIONS REACHED LIMIT.\n",
      "\n",
      "Increase the number of iterations (max_iter) or scale the data as shown in:\n",
      "    https://scikit-learn.org/stable/modules/preprocessing.html\n",
      "Please also refer to the documentation for alternative solver options:\n",
      "    https://scikit-learn.org/stable/modules/linear_model.html#logistic-regression\n",
      "  n_iter_i = _check_optimize_result(\n"
     ]
    }
   ],
   "source": [
    "##LOGISTIC REGRESSION WITH BOW\n",
    "# Hyperparameters\n",
    "C = [0.001, 0.01, 0.1, 1, 10]\n",
    "\n",
    "for c in C: \n",
    "    # Define model\n",
    "    log_model = LogisticRegression(C=c, max_iter=500, random_state=1)\n",
    "    \n",
    "    # Train and evaluate model\n",
    "    train_and_eval(model=log_model,\n",
    "                   trainX=bow_X_train,\n",
    "                   trainY=y_train,\n",
    "                   testX=bow_X_test,\n",
    "                   testY=y_test)"
   ]
  },
  {
   "cell_type": "code",
   "execution_count": 60,
   "metadata": {
    "execution": {
     "iopub.execute_input": "2021-06-11T05:38:49.201510Z",
     "iopub.status.busy": "2021-06-11T05:38:49.201151Z",
     "iopub.status.idle": "2021-06-11T05:38:49.568488Z",
     "shell.execute_reply": "2021-06-11T05:38:49.567538Z",
     "shell.execute_reply.started": "2021-06-11T05:38:49.201474Z"
    }
   },
   "outputs": [
    {
     "name": "stdout",
     "output_type": "stream",
     "text": [
      "\n",
      "MultinomialNB(alpha=0)\n",
      "Train accuracy score : 0.8925647214728573\n",
      "Test accuracy score : 0.8182850653038046\n",
      "\n",
      " ----------------------------------------\n",
      "\n",
      "MultinomialNB(alpha=0.2)\n",
      "Train accuracy score : 0.8752425576222254\n",
      "Test accuracy score : 0.8158243422297937\n",
      "\n",
      " ----------------------------------------\n",
      "\n",
      "MultinomialNB(alpha=0.6)\n",
      "Train accuracy score : 0.8720242320980642\n",
      "Test accuracy score : 0.8220707931099754\n",
      "\n",
      " ----------------------------------------\n",
      "\n",
      "MultinomialNB(alpha=0.8)\n",
      "Train accuracy score : 0.8717402621988736\n",
      "Test accuracy score : 0.8271815256483059\n",
      "\n",
      " ----------------------------------------\n",
      "\n",
      "MultinomialNB(alpha=1)\n",
      "Train accuracy score : 0.8718349188319372\n",
      "Test accuracy score : 0.8296422487223168\n",
      "\n",
      " ----------------------------------------\n"
     ]
    },
    {
     "name": "stderr",
     "output_type": "stream",
     "text": [
      "/Users/binitashrestha/opt/anaconda3/lib/python3.8/site-packages/sklearn/naive_bayes.py:508: UserWarning: alpha too small will result in numeric errors, setting alpha = 1.0e-10\n",
      "  warnings.warn('alpha too small will result in numeric errors, '\n"
     ]
    }
   ],
   "source": [
    "##NAIVE BAYES CLASSIFIER WITH BOW\n",
    "alphas = [0, 0.2, 0.6, 0.8, 1]\n",
    "\n",
    "for a  in alphas: \n",
    "    # Define model\n",
    "    nb_model = MultinomialNB(alpha=a)\n",
    "\n",
    "    # Train and evaluate model\n",
    "    train_and_eval(model=nb_model,\n",
    "                   trainX=bow_X_train,\n",
    "                   trainY=y_train,\n",
    "                   testX=bow_X_test,\n",
    "                   testY=y_test)"
   ]
  },
  {
   "cell_type": "code",
   "execution_count": 61,
   "metadata": {
    "execution": {
     "iopub.execute_input": "2021-06-11T05:38:49.570355Z",
     "iopub.status.busy": "2021-06-11T05:38:49.569841Z",
     "iopub.status.idle": "2021-06-11T05:40:48.757077Z",
     "shell.execute_reply": "2021-06-11T05:40:48.756145Z",
     "shell.execute_reply.started": "2021-06-11T05:38:49.570311Z"
    }
   },
   "outputs": [
    {
     "name": "stdout",
     "output_type": "stream",
     "text": [
      "\n",
      "LogisticRegression(C=0.001, max_iter=500, random_state=1)\n",
      "Train accuracy score : 0.8244592739836244\n",
      "Test accuracy score : 0.8245315161839863\n",
      "\n",
      " ----------------------------------------\n",
      "\n",
      "LogisticRegression(C=0.01, max_iter=500, random_state=1)\n",
      "Train accuracy score : 0.8244592739836244\n",
      "Test accuracy score : 0.8245315161839863\n",
      "\n",
      " ----------------------------------------\n",
      "\n",
      "LogisticRegression(C=0.1, max_iter=500, random_state=1)\n",
      "Train accuracy score : 0.8310852382980738\n",
      "Test accuracy score : 0.8292636759416998\n",
      "\n",
      " ----------------------------------------\n",
      "\n",
      "LogisticRegression(C=1, max_iter=500, random_state=1)\n",
      "Train accuracy score : 0.8725448435799139\n",
      "Test accuracy score : 0.8425137232632973\n",
      "\n",
      " ----------------------------------------\n",
      "\n",
      "LogisticRegression(C=10, max_iter=500, random_state=1)\n",
      "Train accuracy score : 0.9238960670168962\n",
      "Test accuracy score : 0.8271815256483059\n",
      "\n",
      " ----------------------------------------\n"
     ]
    }
   ],
   "source": [
    "##LOGISTIC REGRESION WITH TF-IDF\n",
    "# Hyperparameters\n",
    "C = [0.001, 0.01, 0.1, 1, 10]\n",
    "\n",
    "for c in C: \n",
    "    # Define model\n",
    "    log_model = LogisticRegression(C=c, max_iter=500, random_state=1)\n",
    "    \n",
    "    # Train and evaluate model\n",
    "    train_and_eval(model=log_model,\n",
    "                   trainX=tfidf_X_train,\n",
    "                   trainY=y_train,\n",
    "                   testX=tfidf_X_test,\n",
    "                   testY=y_test)"
   ]
  },
  {
   "cell_type": "code",
   "execution_count": 62,
   "metadata": {
    "execution": {
     "iopub.execute_input": "2021-06-11T05:40:48.763538Z",
     "iopub.status.busy": "2021-06-11T05:40:48.761354Z",
     "iopub.status.idle": "2021-06-11T05:40:49.098983Z",
     "shell.execute_reply": "2021-06-11T05:40:49.098071Z",
     "shell.execute_reply.started": "2021-06-11T05:40:48.763495Z"
    }
   },
   "outputs": [
    {
     "name": "stdout",
     "output_type": "stream",
     "text": [
      "\n",
      "MultinomialNB(alpha=0)\n",
      "Train accuracy score : 0.8786501964125136\n",
      "Test accuracy score : 0.8243422297936779\n",
      "\n",
      " ----------------------------------------\n",
      "\n",
      "MultinomialNB(alpha=0.2)\n",
      "Train accuracy score : 0.848738700364428\n",
      "Test accuracy score : 0.8269922392579974\n",
      "\n",
      " ----------------------------------------\n",
      "\n",
      "MultinomialNB(alpha=0.6)\n",
      "Train accuracy score : 0.8293340905863978\n",
      "Test accuracy score : 0.8256672345258376\n",
      "\n",
      " ----------------------------------------\n",
      "\n",
      "MultinomialNB(alpha=0.8)\n",
      "Train accuracy score : 0.8272989729755312\n",
      "Test accuracy score : 0.8254779481355291\n",
      "\n",
      " ----------------------------------------\n",
      "\n",
      "MultinomialNB(alpha=1)\n",
      "Train accuracy score : 0.8262577500118321\n",
      "Test accuracy score : 0.8245315161839863\n",
      "\n",
      " ----------------------------------------\n"
     ]
    },
    {
     "name": "stderr",
     "output_type": "stream",
     "text": [
      "/Users/binitashrestha/opt/anaconda3/lib/python3.8/site-packages/sklearn/naive_bayes.py:508: UserWarning: alpha too small will result in numeric errors, setting alpha = 1.0e-10\n",
      "  warnings.warn('alpha too small will result in numeric errors, '\n"
     ]
    }
   ],
   "source": [
    "##NAIVE BAYES CLASSIFIER WITH TF-IDF\n",
    "\n",
    "alphas = [0, 0.2, 0.6, 0.8, 1]\n",
    "\n",
    "for a  in alphas: \n",
    "    # Define model\n",
    "    nb_model = MultinomialNB(alpha=a)\n",
    "\n",
    "    # Train and evaluate model\n",
    "    train_and_eval(model=nb_model,\n",
    "                   trainX=tfidf_X_train,\n",
    "                   trainY=y_train,\n",
    "                   testX=tfidf_X_test,\n",
    "                   testY=y_test)"
   ]
  },
  {
   "cell_type": "code",
   "execution_count": 63,
   "metadata": {
    "execution": {
     "iopub.execute_input": "2021-06-11T05:40:49.102105Z",
     "iopub.status.busy": "2021-06-11T05:40:49.101833Z",
     "iopub.status.idle": "2021-06-11T05:40:49.107431Z",
     "shell.execute_reply": "2021-06-11T05:40:49.106308Z",
     "shell.execute_reply.started": "2021-06-11T05:40:49.102079Z"
    }
   },
   "outputs": [],
   "source": [
    "##MODEL EVALUATION\n",
    "def plot_cm(y_true, y_pred):\n",
    "    plt.figure(figsize=(6,6))\n",
    "    \n",
    "    cm = confusion_matrix(y_true, y_pred, normalize='true')\n",
    "    \n",
    "    sns.heatmap(\n",
    "        cm, annot=True, cmap='Blues', cbar=False, fmt='.2f',\n",
    "        xticklabels=labels, yticklabels=labels)\n",
    "    \n",
    "    return plt.show()"
   ]
  },
  {
   "cell_type": "code",
   "execution_count": 65,
   "metadata": {
    "execution": {
     "iopub.execute_input": "2021-06-11T05:40:49.109429Z",
     "iopub.status.busy": "2021-06-11T05:40:49.108951Z",
     "iopub.status.idle": "2021-06-11T05:41:23.224881Z",
     "shell.execute_reply": "2021-06-11T05:41:23.223809Z",
     "shell.execute_reply.started": "2021-06-11T05:40:49.109379Z"
    }
   },
   "outputs": [
    {
     "data": {
      "text/plain": [
       "LogisticRegression(C=1, max_iter=500, random_state=1)"
      ]
     },
     "execution_count": 65,
     "metadata": {},
     "output_type": "execute_result"
    }
   ],
   "source": [
    "#LOGISTIC REGRESSION WITH C=1 WITH TF-IDF DATA IS BEST MODEL\n",
    "bmodel = LogisticRegression(C=1, max_iter=500, random_state=1)\n",
    "bmodel.fit(tfidf_X_train, y_train)"
   ]
  },
  {
   "cell_type": "code",
   "execution_count": 66,
   "metadata": {
    "execution": {
     "iopub.execute_input": "2021-06-11T05:41:23.226552Z",
     "iopub.status.busy": "2021-06-11T05:41:23.226179Z",
     "iopub.status.idle": "2021-06-11T05:41:23.306025Z",
     "shell.execute_reply": "2021-06-11T05:41:23.305113Z",
     "shell.execute_reply.started": "2021-06-11T05:41:23.226517Z"
    }
   },
   "outputs": [],
   "source": [
    "# predictions\n",
    "y_preds_train = bmodel.predict(tfidf_X_train)\n",
    "y_preds_test = bmodel.predict(tfidf_X_test)"
   ]
  },
  {
   "cell_type": "code",
   "execution_count": 67,
   "metadata": {
    "execution": {
     "iopub.execute_input": "2021-06-11T05:41:23.307619Z",
     "iopub.status.busy": "2021-06-11T05:41:23.307259Z",
     "iopub.status.idle": "2021-06-11T05:41:23.323765Z",
     "shell.execute_reply": "2021-06-11T05:41:23.322942Z",
     "shell.execute_reply.started": "2021-06-11T05:41:23.307584Z"
    }
   },
   "outputs": [
    {
     "name": "stdout",
     "output_type": "stream",
     "text": [
      "Train accuracy score : 0.8725448435799139\n",
      "Test accuracy score : 0.8425137232632973\n"
     ]
    }
   ],
   "source": [
    "#ACCURACY\n",
    "print(f\"Train accuracy score : {accuracy_score(y_train, y_preds_train)}\")\n",
    "print(f\"Test accuracy score : {accuracy_score(y_test, y_preds_test)}\")"
   ]
  },
  {
   "cell_type": "markdown",
   "metadata": {},
   "source": [
    "### Confusion Matrix"
   ]
  },
  {
   "cell_type": "code",
   "execution_count": 69,
   "metadata": {
    "execution": {
     "iopub.execute_input": "2021-06-11T05:41:23.329849Z",
     "iopub.status.busy": "2021-06-11T05:41:23.327753Z",
     "iopub.status.idle": "2021-06-11T05:41:23.459018Z",
     "shell.execute_reply": "2021-06-11T05:41:23.458293Z",
     "shell.execute_reply.started": "2021-06-11T05:41:23.329808Z"
    }
   },
   "outputs": [
    {
     "data": {
      "image/png": "[encoded data removed]",
      "text/plain": [
       "<Figure size 432x432 with 1 Axes>"
      ]
     },
     "metadata": {
      "needs_background": "light"
     },
     "output_type": "display_data"
    }
   ],
   "source": [
    "#CONFUSION MATRIX\n",
    "plot_cm(y_test, y_preds_test)"
   ]
  },
  {
   "cell_type": "code",
   "execution_count": 70,
   "metadata": {
    "execution": {
     "iopub.execute_input": "2021-06-11T05:41:23.460478Z",
     "iopub.status.busy": "2021-06-11T05:41:23.460126Z",
     "iopub.status.idle": "2021-06-11T05:41:23.529795Z",
     "shell.execute_reply": "2021-06-11T05:41:23.528988Z",
     "shell.execute_reply.started": "2021-06-11T05:41:23.460446Z"
    }
   },
   "outputs": [],
   "source": [
    "#SAVE MODEL\n",
    "with open(\"transformer.pkl\", \"wb\") as f:\n",
    "    pickle.dump(tfidf_vectorizer, f)\n",
    "    \n",
    "with open(\"model.pkl\", \"wb\") as f:\n",
    "    pickle.dump(bmodel, f)"
   ]
  },
  {
   "cell_type": "code",
   "execution_count": 72,
   "metadata": {
    "execution": {
     "iopub.execute_input": "2021-06-11T05:41:23.531498Z",
     "iopub.status.busy": "2021-06-11T05:41:23.531017Z",
     "iopub.status.idle": "2021-06-11T05:41:23.536489Z",
     "shell.execute_reply": "2021-06-11T05:41:23.535467Z",
     "shell.execute_reply.started": "2021-06-11T05:41:23.531461Z"
    }
   },
   "outputs": [],
   "source": [
    "#MAKING PREDICTIONS\n",
    "labels = ['Negative', 'Neutral', 'Positive']\n",
    "def get_sentiment(review):\n",
    "    # preprocessing\n",
    "    x = preprocessor(review)\n",
    "    \n",
    "    #vectorization\n",
    "    x = tfidf_vectorizer.transform([x])\n",
    "    \n",
    "    #prediction\n",
    "    y = int(bmodel.predict(x.reshape(1,-1)))\n",
    "    return labels[y]"
   ]
  },
  {
   "cell_type": "code",
   "execution_count": 74,
   "metadata": {
    "execution": {
     "iopub.execute_input": "2021-06-11T05:41:23.538301Z",
     "iopub.status.busy": "2021-06-11T05:41:23.537902Z",
     "iopub.status.idle": "2021-06-11T05:41:23.548782Z",
     "shell.execute_reply": "2021-06-11T05:41:23.547968Z",
     "shell.execute_reply.started": "2021-06-11T05:41:23.538266Z"
    }
   },
   "outputs": [
    {
     "name": "stdout",
     "output_type": "stream",
     "text": [
      "This is a Negative review!\n"
     ]
    }
   ],
   "source": [
    "# EXAMPLE\n",
    "review = \"This product is NOT good. I buy this!!\"\n",
    "\n",
    "print(f\"This is a {get_sentiment(review)} review!\")"
   ]
  }
 ],
 "metadata": {
  "kernelspec": {
   "display_name": "Python 3",
   "language": "python",
   "name": "python3"
  },
  "language_info": {
   "codemirror_mode": {
    "name": "ipython",
    "version": 3
   },
   "file_extension": ".py",
   "mimetype": "text/x-python",
   "name": "python",
   "nbconvert_exporter": "python",
   "pygments_lexer": "ipython3",
   "version": "3.8.8"
  }
 },
 "nbformat": 4,
 "nbformat_minor": 4
}
